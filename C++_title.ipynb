{
  "nbformat": 4,
  "nbformat_minor": 0,
  "metadata": {
    "colab": {
      "name": "C++ title.ipynb",
      "provenance": [],
      "authorship_tag": "ABX9TyO6UO265AWXcJ3GHs9y/a6N",
      "include_colab_link": true
    },
    "kernelspec": {
      "name": "python3",
      "display_name": "Python 3"
    },
    "language_info": {
      "name": "python"
    }
  },
  "cells": [
    {
      "cell_type": "markdown",
      "metadata": {
        "id": "view-in-github",
        "colab_type": "text"
      },
      "source": [
        "<a href=\"https://colab.research.google.com/github/Wei072777/123/blob/main/C%2B%2B_title.ipynb\" target=\"_parent\"><img src=\"https://colab.research.google.com/assets/colab-badge.svg\" alt=\"Open In Colab\"/></a>"
      ]
    },
    {
      "cell_type": "markdown",
      "source": [
        "# 新增區段"
      ],
      "metadata": {
        "id": "KAhxZV33eQug"
      }
    },
    {
      "cell_type": "code",
      "source": [
        "%%writefile qh.cpp\n",
        "#include<iostream>\n",
        "using namespace std;\n",
        "int main()\n",
        "{\n",
        "    \n",
        "}"
      ],
      "metadata": {
        "colab": {
          "base_uri": "https://localhost:8080/"
        },
        "id": "C7DGHUQLfiBs",
        "outputId": "dd40e8cd-4e0d-4b19-a3d1-739795a2d256"
      },
      "execution_count": 67,
      "outputs": [
        {
          "output_type": "stream",
          "name": "stdout",
          "text": [
            "Writing qh.cpp\n"
          ]
        }
      ]
    },
    {
      "cell_type": "code",
      "source": [
        " !./f.o"
      ],
      "metadata": {
        "colab": {
          "base_uri": "https://localhost:8080/"
        },
        "id": "t3TapCUVgeZP",
        "outputId": "003582be-9d88-4173-da31-4394ba10801d"
      },
      "execution_count": 68,
      "outputs": [
        {
          "output_type": "stream",
          "name": "stdout",
          "text": [
            "2\n",
            "d\n",
            "d\n",
            "d\n"
          ]
        }
      ]
    }
  ]
}